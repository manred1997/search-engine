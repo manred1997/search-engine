{
 "cells": [
  {
   "cell_type": "code",
   "execution_count": 10,
   "metadata": {},
   "outputs": [],
   "source": [
    "import json\n",
    "from vncorenlp import VnCoreNLP\n",
    "from tqdm import tqdm\n",
    "annotator = VnCoreNLP(\"../../../VnCoreNLP/VnCoreNLP-1.1.1.jar\", annotators=\"wseg\", max_heap_size='-Xmx2g') "
   ]
  },
  {
   "cell_type": "code",
   "execution_count": 2,
   "metadata": {},
   "outputs": [],
   "source": [
    "with open('./query_symptom_disease.json', 'r', encoding='utf-8') as f:\n",
    "    data = json.load(f)"
   ]
  },
  {
   "cell_type": "code",
   "execution_count": 3,
   "metadata": {},
   "outputs": [],
   "source": [
    "queries = []\n",
    "for i in data:\n",
    "    queries.append(i['query'])"
   ]
  },
  {
   "cell_type": "code",
   "execution_count": 4,
   "metadata": {},
   "outputs": [
    {
     "data": {
      "text/plain": [
       "['Amidan sưng là tình trạng của viêm Amidan hay bệnh da liễu?',\n",
       " 'Trẻ 4 tuổi amidan sưng nhưng không đau là do đâu?',\n",
       " 'Amidan sưng to một bên, cổ họng nổi nhiều nốt có nguy hiểm không?',\n",
       " 'Amidan sưng to, có đờm, khạc ra máu có nên đi cắt bỏ không?',\n",
       " 'Đau đầu chóng mặt, cổ họng đau rát amidan sưng và hơi thở có mùi có phải do trào ngược dạ dày không?',\n",
       " 'Nên làm gì khi trẻ sưng amidan?',\n",
       " 'Sưng amidan kéo dài có nguy hiểm không?',\n",
       " 'Sưng amidan, đau họng kéo dài có nguy hiểm không?',\n",
       " 'Sưng amidan hốc mủ tái phát nhiều lần phải làm sao?',\n",
       " 'Bị sưng amidan, có mủ trắng vón cục cần làm gì?']"
      ]
     },
     "execution_count": 4,
     "metadata": {},
     "output_type": "execute_result"
    }
   ],
   "source": [
    "queries[:10]"
   ]
  },
  {
   "cell_type": "code",
   "execution_count": 9,
   "metadata": {},
   "outputs": [],
   "source": [
    "with open('queries.txt', 'w', encoding='utf-8') as f:\n",
    "    for item in queries:\n",
    "        f.write('%s\\n' %item)"
   ]
  },
  {
   "cell_type": "code",
   "execution_count": 5,
   "metadata": {},
   "outputs": [],
   "source": [
    "def segment_sentence(text):\n",
    "    text = annotator.tokenize(text)\n",
    "    sentences = []\n",
    "    for words in text:\n",
    "        words = \" \".join(words)\n",
    "        # words = words.replace('_', ' ')\n",
    "        sentences.append(words)\n",
    "    return \" \".join(sentences)"
   ]
  },
  {
   "cell_type": "code",
   "execution_count": 6,
   "metadata": {},
   "outputs": [
    {
     "name": "stderr",
     "output_type": "stream",
     "text": [
      "100%|██████████| 24302/24302 [00:58<00:00, 413.77it/s]\n"
     ]
    }
   ],
   "source": [
    "token_queries = []\n",
    "for i in tqdm(queries):\n",
    "    i = i.lower()\n",
    "    i = segment_sentence(i)\n",
    "    token_queries.append(i)"
   ]
  },
  {
   "cell_type": "code",
   "execution_count": 7,
   "metadata": {},
   "outputs": [
    {
     "data": {
      "text/plain": [
       "['amidan sưng là tình_trạng của viêm amidan hay bệnh da_liễu ?',\n",
       " 'trẻ 4 tuổi amidan sưng nhưng không đau là do đâu ?',\n",
       " 'amidan sưng to một bên , cổ_họng nổi nhiều nốt có nguy_hiểm không ?',\n",
       " 'amidan sưng to , có đờm , khạc ra máu có nên đi cắt bỏ không ?',\n",
       " 'đau_đầu chóng_mặt , cổ_họng đau rát amidan sưng và hơi thở có mùi có phải do trào ngược dạ_dày không ?']"
      ]
     },
     "execution_count": 7,
     "metadata": {},
     "output_type": "execute_result"
    }
   ],
   "source": [
    "token_queries[:5]"
   ]
  },
  {
   "cell_type": "code",
   "execution_count": 8,
   "metadata": {},
   "outputs": [],
   "source": [
    "with open('../src/build_db/completions_word_level.txt', 'w', encoding='utf-8') as f:\n",
    "    for idx, item in enumerate(token_queries):\n",
    "        f.write(f'{idx} {item}\\n')"
   ]
  },
  {
   "cell_type": "code",
   "execution_count": 3,
   "metadata": {},
   "outputs": [],
   "source": [
    "data = []\n",
    "with open('./key_word.txt', 'r', encoding='utf-8') as f:\n",
    "    for line in f.readlines():\n",
    "        data.append(line.strip())"
   ]
  },
  {
   "cell_type": "code",
   "execution_count": 5,
   "metadata": {},
   "outputs": [],
   "source": [
    "data = sorted(data)\n"
   ]
  },
  {
   "cell_type": "code",
   "execution_count": 7,
   "metadata": {},
   "outputs": [],
   "source": [
    "new_data = {}\n",
    "filtered = []\n",
    "for i, c in enumerate(data):\n",
    "    if (i+1) < len(data) and c in data[i+1]:\n",
    "        filtered.append(c)\n",
    "    else:\n",
    "        new_data[c] = filtered\n",
    "        filtered = []"
   ]
  },
  {
   "cell_type": "code",
   "execution_count": 11,
   "metadata": {},
   "outputs": [],
   "source": [
    "with open('./key_map.json', 'w', encoding='utf-8') as f:\n",
    "    json.dump(new_data, f, ensure_ascii=False)"
   ]
  },
  {
   "cell_type": "code",
   "execution_count": 21,
   "metadata": {},
   "outputs": [],
   "source": [
    "with open('./extend_indicator.json', 'r', encoding='utf-8') as f:\n",
    "    data = json.load(f)"
   ]
  },
  {
   "cell_type": "code",
   "execution_count": 22,
   "metadata": {},
   "outputs": [
    {
     "data": {
      "text/plain": [
       "136"
      ]
     },
     "execution_count": 22,
     "metadata": {},
     "output_type": "execute_result"
    }
   ],
   "source": [
    "len(data)"
   ]
  },
  {
   "cell_type": "code",
   "execution_count": 16,
   "metadata": {},
   "outputs": [],
   "source": [
    "with open('./medical_test.json', 'r', encoding='utf-8') as f:\n",
    "    new_data = json.load(f)"
   ]
  },
  {
   "cell_type": "code",
   "execution_count": 18,
   "metadata": {},
   "outputs": [
    {
     "data": {
      "text/plain": [
       "30"
      ]
     },
     "execution_count": 18,
     "metadata": {},
     "output_type": "execute_result"
    }
   ],
   "source": [
    "len(new_data)"
   ]
  },
  {
   "cell_type": "code",
   "execution_count": null,
   "metadata": {},
   "outputs": [],
   "source": []
  }
 ],
 "metadata": {
  "interpreter": {
   "hash": "fa48754237f30b58a86f79675ed681e030f5974d05e87d06b90daef74cf576c8"
  },
  "kernelspec": {
   "display_name": "Python 3.8.12 ('myenv')",
   "language": "python",
   "name": "python3"
  },
  "language_info": {
   "codemirror_mode": {
    "name": "ipython",
    "version": 3
   },
   "file_extension": ".py",
   "mimetype": "text/x-python",
   "name": "python",
   "nbconvert_exporter": "python",
   "pygments_lexer": "ipython3",
   "version": "3.8.12"
  },
  "orig_nbformat": 4
 },
 "nbformat": 4,
 "nbformat_minor": 2
}
