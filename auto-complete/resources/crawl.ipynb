{
 "cells": [
  {
   "cell_type": "code",
   "execution_count": 1,
   "metadata": {},
   "outputs": [],
   "source": [
    "import json\n",
    "import numpy as np\n",
    "import pandas as pd\n",
    "import re\n",
    "\n",
    "import selenium\n",
    "from selenium import webdriver\n",
    "from selenium.webdriver.chrome.options import Options\n",
    "from selenium.webdriver.common.keys import Keys\n",
    "from selenium.webdriver.common.by import By\n",
    "from tqdm import tqdm\n",
    "from time import sleep\n"
   ]
  },
  {
   "cell_type": "code",
   "execution_count": 2,
   "metadata": {},
   "outputs": [],
   "source": [
    "def read_data(input_path):\n",
    "    with open(input_path, 'r', encoding='utf-8') as f:\n",
    "        data = json.load(f)\n",
    "    return data"
   ]
  },
  {
   "cell_type": "code",
   "execution_count": 3,
   "metadata": {},
   "outputs": [],
   "source": [
    "data = read_data('../data/key_30_exam.json')"
   ]
  },
  {
   "cell_type": "code",
   "execution_count": 4,
   "metadata": {},
   "outputs": [],
   "source": [
    "keys = []\n",
    "for k, v in data.items():\n",
    "    keys.append(k)\n",
    "    keys.extend(v)"
   ]
  },
  {
   "cell_type": "code",
   "execution_count": 5,
   "metadata": {},
   "outputs": [],
   "source": [
    "keys = list(np.unique(keys))"
   ]
  },
  {
   "cell_type": "code",
   "execution_count": 6,
   "metadata": {},
   "outputs": [],
   "source": [
    "df = pd.read_excel('../data/Format_benh_an.xlsx', sheet_name='Chỉ số xét nghiệm', )"
   ]
  },
  {
   "cell_type": "code",
   "execution_count": 7,
   "metadata": {},
   "outputs": [],
   "source": [
    "keys.extend(list(df['Unnamed: 1']))"
   ]
  },
  {
   "cell_type": "code",
   "execution_count": 8,
   "metadata": {},
   "outputs": [],
   "source": [
    "def remove_first_number(text):\n",
    "    text = re.sub('^\\d\\d*\\.', '', text).strip()\n",
    "    return text"
   ]
  },
  {
   "cell_type": "code",
   "execution_count": 9,
   "metadata": {},
   "outputs": [
    {
     "ename": "TypeError",
     "evalue": "expected string or bytes-like object",
     "output_type": "error",
     "traceback": [
      "\u001b[0;31m---------------------------------------------------------------------------\u001b[0m",
      "\u001b[0;31mTypeError\u001b[0m                                 Traceback (most recent call last)",
      "\u001b[0;32m/var/folders/d5/4zbsmpf14f12lkqkw8y5ty8r0000gn/T/ipykernel_8853/3326884381.py\u001b[0m in \u001b[0;36m<module>\u001b[0;34m\u001b[0m\n\u001b[1;32m      2\u001b[0m \u001b[0;32mfor\u001b[0m \u001b[0mk\u001b[0m \u001b[0;32min\u001b[0m \u001b[0mkeys\u001b[0m\u001b[0;34m:\u001b[0m\u001b[0;34m\u001b[0m\u001b[0;34m\u001b[0m\u001b[0m\n\u001b[1;32m      3\u001b[0m     \u001b[0;32mif\u001b[0m \u001b[0mk\u001b[0m \u001b[0;34m==\u001b[0m \u001b[0;34m''\u001b[0m\u001b[0;34m:\u001b[0m \u001b[0;32mcontinue\u001b[0m\u001b[0;34m\u001b[0m\u001b[0;34m\u001b[0m\u001b[0m\n\u001b[0;32m----> 4\u001b[0;31m     \u001b[0mkeys_word\u001b[0m\u001b[0;34m.\u001b[0m\u001b[0mappend\u001b[0m\u001b[0;34m(\u001b[0m\u001b[0mremove_first_number\u001b[0m\u001b[0;34m(\u001b[0m\u001b[0mk\u001b[0m\u001b[0;34m)\u001b[0m\u001b[0;34m)\u001b[0m\u001b[0;34m\u001b[0m\u001b[0;34m\u001b[0m\u001b[0m\n\u001b[0m",
      "\u001b[0;32m/var/folders/d5/4zbsmpf14f12lkqkw8y5ty8r0000gn/T/ipykernel_8853/2128411813.py\u001b[0m in \u001b[0;36mremove_first_number\u001b[0;34m(text)\u001b[0m\n\u001b[1;32m      1\u001b[0m \u001b[0;32mdef\u001b[0m \u001b[0mremove_first_number\u001b[0m\u001b[0;34m(\u001b[0m\u001b[0mtext\u001b[0m\u001b[0;34m)\u001b[0m\u001b[0;34m:\u001b[0m\u001b[0;34m\u001b[0m\u001b[0;34m\u001b[0m\u001b[0m\n\u001b[0;32m----> 2\u001b[0;31m     \u001b[0mtext\u001b[0m \u001b[0;34m=\u001b[0m \u001b[0mre\u001b[0m\u001b[0;34m.\u001b[0m\u001b[0msub\u001b[0m\u001b[0;34m(\u001b[0m\u001b[0;34m'^\\d\\d*\\.'\u001b[0m\u001b[0;34m,\u001b[0m \u001b[0;34m''\u001b[0m\u001b[0;34m,\u001b[0m \u001b[0mtext\u001b[0m\u001b[0;34m)\u001b[0m\u001b[0;34m.\u001b[0m\u001b[0mstrip\u001b[0m\u001b[0;34m(\u001b[0m\u001b[0;34m)\u001b[0m\u001b[0;34m\u001b[0m\u001b[0;34m\u001b[0m\u001b[0m\n\u001b[0m\u001b[1;32m      3\u001b[0m     \u001b[0;32mreturn\u001b[0m \u001b[0mtext\u001b[0m\u001b[0;34m\u001b[0m\u001b[0;34m\u001b[0m\u001b[0m\n",
      "\u001b[0;32m~/opt/anaconda3/envs/myenv/lib/python3.8/re.py\u001b[0m in \u001b[0;36msub\u001b[0;34m(pattern, repl, string, count, flags)\u001b[0m\n\u001b[1;32m    208\u001b[0m     \u001b[0ma\u001b[0m \u001b[0mcallable\u001b[0m\u001b[0;34m,\u001b[0m \u001b[0mit\u001b[0m\u001b[0;31m'\u001b[0m\u001b[0ms\u001b[0m \u001b[0mpassed\u001b[0m \u001b[0mthe\u001b[0m \u001b[0mMatch\u001b[0m \u001b[0mobject\u001b[0m \u001b[0;32mand\u001b[0m \u001b[0mmust\u001b[0m \u001b[0;32mreturn\u001b[0m\u001b[0;34m\u001b[0m\u001b[0;34m\u001b[0m\u001b[0m\n\u001b[1;32m    209\u001b[0m     a replacement string to be used.\"\"\"\n\u001b[0;32m--> 210\u001b[0;31m     \u001b[0;32mreturn\u001b[0m \u001b[0m_compile\u001b[0m\u001b[0;34m(\u001b[0m\u001b[0mpattern\u001b[0m\u001b[0;34m,\u001b[0m \u001b[0mflags\u001b[0m\u001b[0;34m)\u001b[0m\u001b[0;34m.\u001b[0m\u001b[0msub\u001b[0m\u001b[0;34m(\u001b[0m\u001b[0mrepl\u001b[0m\u001b[0;34m,\u001b[0m \u001b[0mstring\u001b[0m\u001b[0;34m,\u001b[0m \u001b[0mcount\u001b[0m\u001b[0;34m)\u001b[0m\u001b[0;34m\u001b[0m\u001b[0;34m\u001b[0m\u001b[0m\n\u001b[0m\u001b[1;32m    211\u001b[0m \u001b[0;34m\u001b[0m\u001b[0m\n\u001b[1;32m    212\u001b[0m \u001b[0;32mdef\u001b[0m \u001b[0msubn\u001b[0m\u001b[0;34m(\u001b[0m\u001b[0mpattern\u001b[0m\u001b[0;34m,\u001b[0m \u001b[0mrepl\u001b[0m\u001b[0;34m,\u001b[0m \u001b[0mstring\u001b[0m\u001b[0;34m,\u001b[0m \u001b[0mcount\u001b[0m\u001b[0;34m=\u001b[0m\u001b[0;36m0\u001b[0m\u001b[0;34m,\u001b[0m \u001b[0mflags\u001b[0m\u001b[0;34m=\u001b[0m\u001b[0;36m0\u001b[0m\u001b[0;34m)\u001b[0m\u001b[0;34m:\u001b[0m\u001b[0;34m\u001b[0m\u001b[0;34m\u001b[0m\u001b[0m\n",
      "\u001b[0;31mTypeError\u001b[0m: expected string or bytes-like object"
     ]
    }
   ],
   "source": [
    "keys_word = []\n",
    "for k in keys:\n",
    "    if k == '': continue\n",
    "    keys_word.append(remove_first_number(k))"
   ]
  },
  {
   "cell_type": "code",
   "execution_count": 23,
   "metadata": {},
   "outputs": [],
   "source": [
    "with open('./key_word.txt', 'w', encoding='utf-8') as f:\n",
    "    for item in keys_word:\n",
    "        f.write('%s\\n' %item)"
   ]
  },
  {
   "cell_type": "code",
   "execution_count": 12,
   "metadata": {},
   "outputs": [],
   "source": [
    "keys = []\n",
    "with open('./key_word.txt', 'r', encoding='utf-8') as f:\n",
    "    for line in f.readlines():\n",
    "        keys.append(line.strip())"
   ]
  },
  {
   "cell_type": "code",
   "execution_count": 3,
   "metadata": {},
   "outputs": [],
   "source": [
    "keys = []\n",
    "with open('../data/symptom.txt', 'r', encoding='utf-8') as f:\n",
    "    for line in f.readlines():\n",
    "        line = line.strip()\n",
    "        if len(line.split()) > 1:\n",
    "            keys.append(line)"
   ]
  },
  {
   "cell_type": "code",
   "execution_count": 4,
   "metadata": {},
   "outputs": [],
   "source": [
    "chrome_options = Options()\n",
    "chrome_options.add_argument(\"--incognito\")\n",
    "# chrome_options.add_argument(\"--window-size=1920x1080\")"
   ]
  },
  {
   "cell_type": "code",
   "execution_count": 25,
   "metadata": {},
   "outputs": [],
   "source": [
    "with open('./query_symptom_disease.json', 'r', encoding='utf-8') as f:\n",
    "    urls = json.load(f)"
   ]
  },
  {
   "cell_type": "code",
   "execution_count": 26,
   "metadata": {},
   "outputs": [
    {
     "data": {
      "text/plain": [
       "24302"
      ]
     },
     "execution_count": 26,
     "metadata": {},
     "output_type": "execute_result"
    }
   ],
   "source": [
    "len(urls)"
   ]
  },
  {
   "cell_type": "code",
   "execution_count": 20,
   "metadata": {},
   "outputs": [],
   "source": [
    "tmp = {}\n",
    "for i in urls:\n",
    "    query = i['query']\n",
    "    if re.search('\\?$', query):\n",
    "        if query not in tmp:\n",
    "            tmp[query] = i['href']"
   ]
  },
  {
   "cell_type": "code",
   "execution_count": 21,
   "metadata": {},
   "outputs": [],
   "source": [
    "urls = []\n",
    "for k, v in tmp.items():\n",
    "    urls.append({\n",
    "        'query': k,\n",
    "        'href': v\n",
    "    })"
   ]
  },
  {
   "cell_type": "code",
   "execution_count": 22,
   "metadata": {},
   "outputs": [
    {
     "data": {
      "text/plain": [
       "24302"
      ]
     },
     "execution_count": 22,
     "metadata": {},
     "output_type": "execute_result"
    }
   ],
   "source": [
    "len(urls)"
   ]
  },
  {
   "cell_type": "code",
   "execution_count": 24,
   "metadata": {},
   "outputs": [],
   "source": [
    "with open('./query_symptom_disease.json', 'w', encoding='utf-8') as f:\n",
    "    json.dump(urls, f, ensure_ascii=False)"
   ]
  },
  {
   "cell_type": "code",
   "execution_count": 18,
   "metadata": {},
   "outputs": [
    {
     "name": "stderr",
     "output_type": "stream",
     "text": [
      "/var/folders/d5/4zbsmpf14f12lkqkw8y5ty8r0000gn/T/ipykernel_1520/4086920663.py:1: DeprecationWarning: executable_path has been deprecated, please pass in a Service object\n",
      "  browser=webdriver.Chrome(chrome_options=chrome_options, executable_path=\"./chromedriver\")\n",
      "/var/folders/d5/4zbsmpf14f12lkqkw8y5ty8r0000gn/T/ipykernel_1520/4086920663.py:1: DeprecationWarning: use options instead of chrome_options\n",
      "  browser=webdriver.Chrome(chrome_options=chrome_options, executable_path=\"./chromedriver\")\n",
      "  3%|▎         | 5/175 [18:05<10:15:04, 217.09s/it]\n"
     ]
    },
    {
     "ename": "WebDriverException",
     "evalue": "Message: chrome not reachable\n  (Session info: chrome=100.0.4896.75)\nStacktrace:\n0   chromedriver                        0x0000000100ef3c34 chromedriver + 4406324\n1   chromedriver                        0x0000000100e8d290 chromedriver + 3986064\n2   chromedriver                        0x0000000100aee71c chromedriver + 190236\n3   chromedriver                        0x0000000100ade794 chromedriver + 124820\n4   chromedriver                        0x0000000100adf010 chromedriver + 126992\n5   chromedriver                        0x0000000100ad9fa4 chromedriver + 106404\n6   chromedriver                        0x0000000100b45efc chromedriver + 548604\n7   chromedriver                        0x0000000100b12864 chromedriver + 338020\n8   chromedriver                        0x0000000100eb9320 chromedriver + 4166432\n9   chromedriver                        0x0000000100ece748 chromedriver + 4253512\n10  chromedriver                        0x0000000100ed2cbc chromedriver + 4271292\n11  chromedriver                        0x0000000100ecf004 chromedriver + 4255748\n12  chromedriver                        0x0000000100eaf08c chromedriver + 4124812\n13  chromedriver                        0x0000000100ee6bf8 chromedriver + 4353016\n14  chromedriver                        0x0000000100ee6d5c chromedriver + 4353372\n15  chromedriver                        0x0000000100efa438 chromedriver + 4432952\n16  libsystem_pthread.dylib             0x00000001a30d626c _pthread_start + 148\n17  libsystem_pthread.dylib             0x00000001a30d108c thread_start + 8\n",
     "output_type": "error",
     "traceback": [
      "\u001b[0;31m---------------------------------------------------------------------------\u001b[0m",
      "\u001b[0;31mWebDriverException\u001b[0m                        Traceback (most recent call last)",
      "\u001b[0;32m/var/folders/d5/4zbsmpf14f12lkqkw8y5ty8r0000gn/T/ipykernel_1520/4086920663.py\u001b[0m in \u001b[0;36m<module>\u001b[0;34m\u001b[0m\n\u001b[1;32m      4\u001b[0m \u001b[0msleep\u001b[0m\u001b[0;34m(\u001b[0m\u001b[0;36m1\u001b[0m\u001b[0;34m)\u001b[0m\u001b[0;34m\u001b[0m\u001b[0;34m\u001b[0m\u001b[0m\n\u001b[1;32m      5\u001b[0m \u001b[0;32mfor\u001b[0m \u001b[0mk\u001b[0m \u001b[0;32min\u001b[0m \u001b[0mtqdm\u001b[0m\u001b[0;34m(\u001b[0m\u001b[0mkeys\u001b[0m\u001b[0;34m[\u001b[0m\u001b[0;36m683\u001b[0m\u001b[0;34m:\u001b[0m\u001b[0;34m]\u001b[0m\u001b[0;34m)\u001b[0m\u001b[0;34m:\u001b[0m\u001b[0;34m\u001b[0m\u001b[0;34m\u001b[0m\u001b[0m\n\u001b[0;32m----> 6\u001b[0;31m     \u001b[0mbrowser\u001b[0m\u001b[0;34m.\u001b[0m\u001b[0mget\u001b[0m\u001b[0;34m(\u001b[0m\u001b[0;34m'https://www.vinmec.com/vi/bai-viet/tim-kiem/?q=S%E1%BB%91%20l%C6%B0%E1%BB%A3ng%20h%E1%BB%93ng%20c%E1%BA%A7u'\u001b[0m\u001b[0;34m)\u001b[0m\u001b[0;34m\u001b[0m\u001b[0;34m\u001b[0m\u001b[0m\n\u001b[0m\u001b[1;32m      7\u001b[0m     \u001b[0mkey_search\u001b[0m \u001b[0;34m=\u001b[0m \u001b[0mk\u001b[0m\u001b[0;34m\u001b[0m\u001b[0;34m\u001b[0m\u001b[0m\n\u001b[1;32m      8\u001b[0m     \u001b[0msearching_bar\u001b[0m \u001b[0;34m=\u001b[0m \u001b[0mbrowser\u001b[0m\u001b[0;34m.\u001b[0m\u001b[0mfind_element\u001b[0m\u001b[0;34m(\u001b[0m\u001b[0mBy\u001b[0m\u001b[0;34m.\u001b[0m\u001b[0mXPATH\u001b[0m\u001b[0;34m,\u001b[0m \u001b[0;34m\"//div[@class='has-suggestion']\"\u001b[0m\u001b[0;34m)\u001b[0m\u001b[0;34m\u001b[0m\u001b[0;34m\u001b[0m\u001b[0m\n",
      "\u001b[0;32m~/opt/anaconda3/envs/myenv/lib/python3.8/site-packages/selenium/webdriver/remote/webdriver.py\u001b[0m in \u001b[0;36mget\u001b[0;34m(self, url)\u001b[0m\n\u001b[1;32m    428\u001b[0m         \u001b[0mLoads\u001b[0m \u001b[0ma\u001b[0m \u001b[0mweb\u001b[0m \u001b[0mpage\u001b[0m \u001b[0;32min\u001b[0m \u001b[0mthe\u001b[0m \u001b[0mcurrent\u001b[0m \u001b[0mbrowser\u001b[0m \u001b[0msession\u001b[0m\u001b[0;34m.\u001b[0m\u001b[0;34m\u001b[0m\u001b[0;34m\u001b[0m\u001b[0m\n\u001b[1;32m    429\u001b[0m         \"\"\"\n\u001b[0;32m--> 430\u001b[0;31m         \u001b[0mself\u001b[0m\u001b[0;34m.\u001b[0m\u001b[0mexecute\u001b[0m\u001b[0;34m(\u001b[0m\u001b[0mCommand\u001b[0m\u001b[0;34m.\u001b[0m\u001b[0mGET\u001b[0m\u001b[0;34m,\u001b[0m \u001b[0;34m{\u001b[0m\u001b[0;34m'url'\u001b[0m\u001b[0;34m:\u001b[0m \u001b[0murl\u001b[0m\u001b[0;34m}\u001b[0m\u001b[0;34m)\u001b[0m\u001b[0;34m\u001b[0m\u001b[0;34m\u001b[0m\u001b[0m\n\u001b[0m\u001b[1;32m    431\u001b[0m \u001b[0;34m\u001b[0m\u001b[0m\n\u001b[1;32m    432\u001b[0m     \u001b[0;34m@\u001b[0m\u001b[0mproperty\u001b[0m\u001b[0;34m\u001b[0m\u001b[0;34m\u001b[0m\u001b[0m\n",
      "\u001b[0;32m~/opt/anaconda3/envs/myenv/lib/python3.8/site-packages/selenium/webdriver/remote/webdriver.py\u001b[0m in \u001b[0;36mexecute\u001b[0;34m(self, driver_command, params)\u001b[0m\n\u001b[1;32m    416\u001b[0m         \u001b[0mresponse\u001b[0m \u001b[0;34m=\u001b[0m \u001b[0mself\u001b[0m\u001b[0;34m.\u001b[0m\u001b[0mcommand_executor\u001b[0m\u001b[0;34m.\u001b[0m\u001b[0mexecute\u001b[0m\u001b[0;34m(\u001b[0m\u001b[0mdriver_command\u001b[0m\u001b[0;34m,\u001b[0m \u001b[0mparams\u001b[0m\u001b[0;34m)\u001b[0m\u001b[0;34m\u001b[0m\u001b[0;34m\u001b[0m\u001b[0m\n\u001b[1;32m    417\u001b[0m         \u001b[0;32mif\u001b[0m \u001b[0mresponse\u001b[0m\u001b[0;34m:\u001b[0m\u001b[0;34m\u001b[0m\u001b[0;34m\u001b[0m\u001b[0m\n\u001b[0;32m--> 418\u001b[0;31m             \u001b[0mself\u001b[0m\u001b[0;34m.\u001b[0m\u001b[0merror_handler\u001b[0m\u001b[0;34m.\u001b[0m\u001b[0mcheck_response\u001b[0m\u001b[0;34m(\u001b[0m\u001b[0mresponse\u001b[0m\u001b[0;34m)\u001b[0m\u001b[0;34m\u001b[0m\u001b[0;34m\u001b[0m\u001b[0m\n\u001b[0m\u001b[1;32m    419\u001b[0m             response['value'] = self._unwrap_value(\n\u001b[1;32m    420\u001b[0m                 response.get('value', None))\n",
      "\u001b[0;32m~/opt/anaconda3/envs/myenv/lib/python3.8/site-packages/selenium/webdriver/remote/errorhandler.py\u001b[0m in \u001b[0;36mcheck_response\u001b[0;34m(self, response)\u001b[0m\n\u001b[1;32m    241\u001b[0m                 \u001b[0malert_text\u001b[0m \u001b[0;34m=\u001b[0m \u001b[0mvalue\u001b[0m\u001b[0;34m[\u001b[0m\u001b[0;34m'alert'\u001b[0m\u001b[0;34m]\u001b[0m\u001b[0;34m.\u001b[0m\u001b[0mget\u001b[0m\u001b[0;34m(\u001b[0m\u001b[0;34m'text'\u001b[0m\u001b[0;34m)\u001b[0m\u001b[0;34m\u001b[0m\u001b[0;34m\u001b[0m\u001b[0m\n\u001b[1;32m    242\u001b[0m             \u001b[0;32mraise\u001b[0m \u001b[0mexception_class\u001b[0m\u001b[0;34m(\u001b[0m\u001b[0mmessage\u001b[0m\u001b[0;34m,\u001b[0m \u001b[0mscreen\u001b[0m\u001b[0;34m,\u001b[0m \u001b[0mstacktrace\u001b[0m\u001b[0;34m,\u001b[0m \u001b[0malert_text\u001b[0m\u001b[0;34m)\u001b[0m  \u001b[0;31m# type: ignore[call-arg]  # mypy is not smart enough here\u001b[0m\u001b[0;34m\u001b[0m\u001b[0;34m\u001b[0m\u001b[0m\n\u001b[0;32m--> 243\u001b[0;31m         \u001b[0;32mraise\u001b[0m \u001b[0mexception_class\u001b[0m\u001b[0;34m(\u001b[0m\u001b[0mmessage\u001b[0m\u001b[0;34m,\u001b[0m \u001b[0mscreen\u001b[0m\u001b[0;34m,\u001b[0m \u001b[0mstacktrace\u001b[0m\u001b[0;34m)\u001b[0m\u001b[0;34m\u001b[0m\u001b[0;34m\u001b[0m\u001b[0m\n\u001b[0m\u001b[1;32m    244\u001b[0m \u001b[0;34m\u001b[0m\u001b[0m\n\u001b[1;32m    245\u001b[0m     \u001b[0;32mdef\u001b[0m \u001b[0m_value_or_default\u001b[0m\u001b[0;34m(\u001b[0m\u001b[0mself\u001b[0m\u001b[0;34m,\u001b[0m \u001b[0mobj\u001b[0m\u001b[0;34m:\u001b[0m \u001b[0mMapping\u001b[0m\u001b[0;34m[\u001b[0m\u001b[0m_KT\u001b[0m\u001b[0;34m,\u001b[0m \u001b[0m_VT\u001b[0m\u001b[0;34m]\u001b[0m\u001b[0;34m,\u001b[0m \u001b[0mkey\u001b[0m\u001b[0;34m:\u001b[0m \u001b[0m_KT\u001b[0m\u001b[0;34m,\u001b[0m \u001b[0mdefault\u001b[0m\u001b[0;34m:\u001b[0m \u001b[0m_VT\u001b[0m\u001b[0;34m)\u001b[0m \u001b[0;34m->\u001b[0m \u001b[0m_VT\u001b[0m\u001b[0;34m:\u001b[0m\u001b[0;34m\u001b[0m\u001b[0;34m\u001b[0m\u001b[0m\n",
      "\u001b[0;31mWebDriverException\u001b[0m: Message: chrome not reachable\n  (Session info: chrome=100.0.4896.75)\nStacktrace:\n0   chromedriver                        0x0000000100ef3c34 chromedriver + 4406324\n1   chromedriver                        0x0000000100e8d290 chromedriver + 3986064\n2   chromedriver                        0x0000000100aee71c chromedriver + 190236\n3   chromedriver                        0x0000000100ade794 chromedriver + 124820\n4   chromedriver                        0x0000000100adf010 chromedriver + 126992\n5   chromedriver                        0x0000000100ad9fa4 chromedriver + 106404\n6   chromedriver                        0x0000000100b45efc chromedriver + 548604\n7   chromedriver                        0x0000000100b12864 chromedriver + 338020\n8   chromedriver                        0x0000000100eb9320 chromedriver + 4166432\n9   chromedriver                        0x0000000100ece748 chromedriver + 4253512\n10  chromedriver                        0x0000000100ed2cbc chromedriver + 4271292\n11  chromedriver                        0x0000000100ecf004 chromedriver + 4255748\n12  chromedriver                        0x0000000100eaf08c chromedriver + 4124812\n13  chromedriver                        0x0000000100ee6bf8 chromedriver + 4353016\n14  chromedriver                        0x0000000100ee6d5c chromedriver + 4353372\n15  chromedriver                        0x0000000100efa438 chromedriver + 4432952\n16  libsystem_pthread.dylib             0x00000001a30d626c _pthread_start + 148\n17  libsystem_pthread.dylib             0x00000001a30d108c thread_start + 8\n"
     ]
    }
   ],
   "source": [
    "browser=webdriver.Chrome(chrome_options=chrome_options, executable_path=\"./chromedriver\")\n",
    "\n",
    "# urls = []\n",
    "sleep(1)\n",
    "for k in tqdm(keys[683:]):\n",
    "    browser.get('https://www.vinmec.com/vi/bai-viet/tim-kiem/?q=S%E1%BB%91%20l%C6%B0%E1%BB%A3ng%20h%E1%BB%93ng%20c%E1%BA%A7u')\n",
    "    key_search = k\n",
    "    searching_bar = browser.find_element(By.XPATH, \"//div[@class='has-suggestion']\")\n",
    "    input_type = searching_bar.find_element(By.XPATH, \"./input[@id='search-input']\")\n",
    "    # print(input_type)\n",
    "    input_type.send_keys(Keys.CONTROL + \"a\")\n",
    "    input_type.send_keys(Keys.DELETE)\n",
    "    input_type.send_keys(k)\n",
    "    input_type.send_keys(Keys.ENTER)\n",
    "\n",
    "    try:\n",
    "        pagination = browser.find_element(By.XPATH, \"//div[@class='pagination']\")\n",
    "        pagination = pagination.find_element(By.XPATH, \".//span[@class='current']\")\n",
    "        total_page = pagination.text.split('/')[-1]\n",
    "        url = browser.current_url\n",
    "    except:\n",
    "        try:\n",
    "            retrieval = browser.find_element(By.XPATH, \"//div[@class='content col-xs-12 col-md-8 no-paddings-sm']\")\n",
    "            retrieval_lists = retrieval.find_element(By.XPATH, \"./ul\")\n",
    "            retrieval_docs = retrieval_lists.find_elements(By.XPATH, \"./li\")\n",
    "            for doc in retrieval_docs:\n",
    "                tag_doc = doc.find_element(By.XPATH, \".//h3\")\n",
    "                tag_doc = tag_doc.find_element(By.XPATH, \".//a\")\n",
    "                query = tag_doc.text\n",
    "                href = tag_doc.get_attribute('href')\n",
    "                urls.append({\n",
    "                    'query': query,\n",
    "                    'href': href\n",
    "                })\n",
    "            continue\n",
    "        except:\n",
    "            continue   \n",
    "    \n",
    "    for i in range(1, int(total_page)+1):\n",
    "        try:\n",
    "            sleep(0.5)\n",
    "            curr_url = url + '&page=' + str(i)\n",
    "            browser.get(curr_url)\n",
    "            retrieval = browser.find_element(By.XPATH, \"//div[@class='content col-xs-12 col-md-8 no-paddings-sm']\")\n",
    "        except:\n",
    "            break\n",
    "        retrieval_lists = retrieval.find_element(By.XPATH, \"./ul\")\n",
    "        retrieval_docs = retrieval_lists.find_elements(By.XPATH, \"./li\")\n",
    "        for doc in retrieval_docs:\n",
    "            tag_doc = doc.find_element(By.XPATH, \".//h3\")\n",
    "            tag_doc = tag_doc.find_element(By.XPATH, \".//a\")\n",
    "            query = tag_doc.text\n",
    "            href = tag_doc.get_attribute('href')\n",
    "            urls.append({\n",
    "                'query': query,\n",
    "                'href': href\n",
    "            })\n",
    "\n"
   ]
  },
  {
   "cell_type": "code",
   "execution_count": null,
   "metadata": {},
   "outputs": [],
   "source": []
  }
 ],
 "metadata": {
  "interpreter": {
   "hash": "fa48754237f30b58a86f79675ed681e030f5974d05e87d06b90daef74cf576c8"
  },
  "kernelspec": {
   "display_name": "Python 3.8.12 ('myenv')",
   "language": "python",
   "name": "python3"
  },
  "language_info": {
   "codemirror_mode": {
    "name": "ipython",
    "version": 3
   },
   "file_extension": ".py",
   "mimetype": "text/x-python",
   "name": "python",
   "nbconvert_exporter": "python",
   "pygments_lexer": "ipython3",
   "version": "3.8.12"
  },
  "orig_nbformat": 4
 },
 "nbformat": 4,
 "nbformat_minor": 2
}
