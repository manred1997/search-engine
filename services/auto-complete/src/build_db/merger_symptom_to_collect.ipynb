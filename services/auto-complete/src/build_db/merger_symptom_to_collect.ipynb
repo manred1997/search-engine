{
 "cells": [
  {
   "cell_type": "code",
   "execution_count": 24,
   "metadata": {},
   "outputs": [],
   "source": [
    "import json\n",
    "import numpy as np\n",
    "from vncorenlp import VnCoreNLP\n",
    "from tqdm import tqdm\n",
    "annotator = VnCoreNLP(\"../../../../VnCoreNLP/VnCoreNLP-1.1.1.jar\", annotators=\"wseg\", max_heap_size='-Xmx2g') "
   ]
  },
  {
   "cell_type": "code",
   "execution_count": 13,
   "metadata": {},
   "outputs": [],
   "source": [
    "symptoms = []\n",
    "with open('../../data/symptom.txt', 'r', encoding='utf-8') as f:\n",
    "    for line in f.readlines():\n",
    "        symptoms.append(line.strip())"
   ]
  },
  {
   "cell_type": "code",
   "execution_count": 14,
   "metadata": {},
   "outputs": [],
   "source": [
    "with open('../../data/symptoms_aivicare.txt', 'r', encoding='utf-8') as f:\n",
    "    for line in f.readlines():\n",
    "        symptoms.append(line.strip())"
   ]
  },
  {
   "cell_type": "code",
   "execution_count": 21,
   "metadata": {},
   "outputs": [],
   "source": [
    "collect = []\n",
    "with open('./completions_collect_word_level.txt', 'r', encoding='utf-8') as f:\n",
    "    for line in f.readlines():\n",
    "        line = line.strip().split()[1:]\n",
    "        line = \" \".join(line)\n",
    "        collect.append(line)"
   ]
  },
  {
   "cell_type": "code",
   "execution_count": 22,
   "metadata": {},
   "outputs": [
    {
     "data": {
      "text/plain": [
       "24302"
      ]
     },
     "execution_count": 22,
     "metadata": {},
     "output_type": "execute_result"
    }
   ],
   "source": [
    "len(collect)"
   ]
  },
  {
   "cell_type": "code",
   "execution_count": 23,
   "metadata": {},
   "outputs": [
    {
     "data": {
      "text/plain": [
       "['amidan sưng là tình_trạng của viêm amidan hay bệnh da_liễu ?',\n",
       " 'trẻ 4 tuổi amidan sưng nhưng không đau là do đâu ?',\n",
       " 'amidan sưng to một bên , cổ_họng nổi nhiều nốt có nguy_hiểm không ?',\n",
       " 'amidan sưng to , có đờm , khạc ra máu có nên đi cắt bỏ không ?',\n",
       " 'đau_đầu chóng_mặt , cổ_họng đau rát amidan sưng và hơi thở có mùi có phải do trào ngược dạ_dày không ?']"
      ]
     },
     "execution_count": 23,
     "metadata": {},
     "output_type": "execute_result"
    }
   ],
   "source": [
    "collect[:5]"
   ]
  },
  {
   "cell_type": "code",
   "execution_count": 15,
   "metadata": {},
   "outputs": [],
   "source": [
    "symptoms = sorted(symptoms)"
   ]
  },
  {
   "cell_type": "code",
   "execution_count": 16,
   "metadata": {},
   "outputs": [],
   "source": [
    "symptoms = np.unique(symptoms).tolist()"
   ]
  },
  {
   "cell_type": "code",
   "execution_count": 25,
   "metadata": {},
   "outputs": [],
   "source": [
    "def segment_sentence(text):\n",
    "    text = annotator.tokenize(text)\n",
    "    sentences = []\n",
    "    for words in text:\n",
    "        words = \" \".join(words)\n",
    "        # words = words.replace('_', ' ')\n",
    "        sentences.append(words)\n",
    "    return \" \".join(sentences)"
   ]
  },
  {
   "cell_type": "code",
   "execution_count": 26,
   "metadata": {},
   "outputs": [
    {
     "name": "stderr",
     "output_type": "stream",
     "text": [
      "100%|██████████| 954/954 [00:03<00:00, 266.26it/s]\n"
     ]
    }
   ],
   "source": [
    "token_symptoms = []\n",
    "for i in tqdm(symptoms):\n",
    "    i = i.lower()\n",
    "    i = segment_sentence(i)\n",
    "    token_symptoms.append(i)"
   ]
  },
  {
   "cell_type": "code",
   "execution_count": 28,
   "metadata": {},
   "outputs": [],
   "source": [
    "collect.extend(token_symptoms)"
   ]
  },
  {
   "cell_type": "code",
   "execution_count": 29,
   "metadata": {},
   "outputs": [
    {
     "data": {
      "text/plain": [
       "25256"
      ]
     },
     "execution_count": 29,
     "metadata": {},
     "output_type": "execute_result"
    }
   ],
   "source": [
    "len(collect)"
   ]
  },
  {
   "cell_type": "code",
   "execution_count": 30,
   "metadata": {},
   "outputs": [],
   "source": [
    "collect = sorted(collect)"
   ]
  },
  {
   "cell_type": "code",
   "execution_count": 33,
   "metadata": {},
   "outputs": [],
   "source": [
    "with open('./completions_collect_word_level.txt', 'w', encoding='utf-8') as f:\n",
    "    for idx, item in enumerate(collect):\n",
    "        f.write(f\"{idx} {item}\\n\")"
   ]
  },
  {
   "cell_type": "code",
   "execution_count": null,
   "metadata": {},
   "outputs": [],
   "source": []
  }
 ],
 "metadata": {
  "interpreter": {
   "hash": "fa48754237f30b58a86f79675ed681e030f5974d05e87d06b90daef74cf576c8"
  },
  "kernelspec": {
   "display_name": "Python 3.8.12 ('myenv')",
   "language": "python",
   "name": "python3"
  },
  "language_info": {
   "codemirror_mode": {
    "name": "ipython",
    "version": 3
   },
   "file_extension": ".py",
   "mimetype": "text/x-python",
   "name": "python",
   "nbconvert_exporter": "python",
   "pygments_lexer": "ipython3",
   "version": "3.8.12"
  },
  "orig_nbformat": 4
 },
 "nbformat": 4,
 "nbformat_minor": 2
}
